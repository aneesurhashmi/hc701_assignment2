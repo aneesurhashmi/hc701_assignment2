{
 "cells": [
  {
   "cell_type": "code",
   "execution_count": 2,
   "metadata": {},
   "outputs": [],
   "source": [
    "import pandas as pd\n",
    "import numpy as np\n",
    "import os \n",
    "import random\n"
   ]
  },
  {
   "cell_type": "code",
   "execution_count": 3,
   "metadata": {},
   "outputs": [],
   "source": [
    "DATA_DIR = \"/apps/local/shared/HC701/assessment/assignment_2/task_2/TBX11K\"\n",
    "USED_CLASSES = [\"tb\", \"health\"]\n",
    "# PLEASE NOTE THAT CLASS LABEL 0 WILL BE FOR \"TB\" AND CLASS LABEL 1 WILL BE FOR \"HEALTHY\""
   ]
  },
  {
   "cell_type": "code",
   "execution_count": 4,
   "metadata": {},
   "outputs": [
    {
     "name": "stdout",
     "output_type": "stream",
     "text": [
      "tb: 800\n",
      "health: 3800\n"
     ]
    }
   ],
   "source": [
    "sorted_imgs_dict = {}\n",
    "\n",
    "for i in USED_CLASSES:\n",
    "    print(f'{i}: {len(os.listdir(os.path.join(DATA_DIR, \"imgs\", i)))}')\n",
    "    sorted_imgs_dict[i] = sorted(os.listdir(os.path.join(DATA_DIR, \"imgs\", i)))"
   ]
  },
  {
   "attachments": {},
   "cell_type": "markdown",
   "metadata": {},
   "source": [
    "- Split data for training and testing. You need to use the first (sorted in an ascending order by ID)\n",
    "20% of images per class for testing and the remaining 80% for training. "
   ]
  },
  {
   "cell_type": "code",
   "execution_count": 5,
   "metadata": {},
   "outputs": [],
   "source": [
    "imgs_list = {} \n",
    "\n",
    "for j in USED_CLASSES:\n",
    "    # test_samples = random.sample(sorted_imgs_dict[j], k =int(0.2*len(sorted_imgs_dict[j])))\n",
    "    test_samples = sorted_imgs_dict[j][:int(0.2*len(sorted_imgs_dict[j]))]\n",
    "    train_samples = sorted_imgs_dict[j][int(0.2*len(sorted_imgs_dict[j])):]\n",
    "\n",
    "    # with full path\n",
    "    train_samples = [os.path.join(DATA_DIR, \"imgs\", j, i) for i in train_samples]\n",
    "    test_samples = [os.path.join(DATA_DIR, \"imgs\", j, i) for i in test_samples]\n",
    "    imgs_list[j] = [test_samples, train_samples] # e.g., tb : [[test_imgs], [train_imgs]] \n",
    "\n"
   ]
  },
  {
   "cell_type": "code",
   "execution_count": 6,
   "metadata": {},
   "outputs": [
    {
     "name": "stdout",
     "output_type": "stream",
     "text": [
      "tb ==> Train: 160, Test: 640\n",
      "health ==> Train: 760, Test: 3040\n"
     ]
    }
   ],
   "source": [
    "for i in USED_CLASSES:\n",
    "    print(f'{i} ==> Train: {len(imgs_list[i][0])}, Test: {len(imgs_list[i][1])}')"
   ]
  },
  {
   "attachments": {},
   "cell_type": "markdown",
   "metadata": {},
   "source": [
    "### Just some sanity checks"
   ]
  },
  {
   "cell_type": "code",
   "execution_count": 7,
   "metadata": {},
   "outputs": [],
   "source": [
    "from os.path import exists\n",
    "\n",
    "for x in range(2):\n",
    "    for i in imgs_list['tb'][x]:\n",
    "        if exists(os.path.join(DATA_DIR,\"imgs\", \"tb\",  i)):\n",
    "            pass\n",
    "        else: \n",
    "            print(os.path.join(DATA_DIR, \"tb\", \"imgs\", i))"
   ]
  },
  {
   "attachments": {},
   "cell_type": "markdown",
   "metadata": {},
   "source": [
    "## Creating Dataframes"
   ]
  },
  {
   "cell_type": "code",
   "execution_count": 8,
   "metadata": {},
   "outputs": [],
   "source": [
    "complete_df_dict = {} # test: {img:[img_1_url, img_2_url, ...], label:[img_1_label, img_1_label, ...]}\n",
    "\n",
    "for i, mydataset in enumerate(['test', 'train']):\n",
    "    temp_imgs_array = []\n",
    "    temp_labels_array = []\n",
    "    for j, cls in enumerate(USED_CLASSES):\n",
    "        temp_imgs_array = temp_imgs_array + imgs_list[cls][i]\n",
    "        temp_labels_array = temp_labels_array + [j for _ in imgs_list[cls][i]]\n",
    "    complete_df_dict[mydataset] = {'img':temp_imgs_array, \"label\":temp_labels_array}        "
   ]
  },
  {
   "cell_type": "code",
   "execution_count": 9,
   "metadata": {},
   "outputs": [],
   "source": [
    "# more sanity checks\n",
    "from os.path import exists\n",
    "for i in complete_df_dict['train']['img']:\n",
    "    if exists(os.path.join(DATA_DIR, \"imgs\", \"tb\", i)):\n",
    "        pass\n",
    "    else: \n",
    "        print(i)"
   ]
  },
  {
   "cell_type": "code",
   "execution_count": 10,
   "metadata": {},
   "outputs": [],
   "source": [
    "train_df = pd.DataFrame.from_dict(complete_df_dict[\"train\"])\n",
    "test_df = pd.DataFrame.from_dict(complete_df_dict[\"test\"])"
   ]
  },
  {
   "cell_type": "code",
   "execution_count": 11,
   "metadata": {},
   "outputs": [
    {
     "data": {
      "text/html": [
       "<div>\n",
       "<style scoped>\n",
       "    .dataframe tbody tr th:only-of-type {\n",
       "        vertical-align: middle;\n",
       "    }\n",
       "\n",
       "    .dataframe tbody tr th {\n",
       "        vertical-align: top;\n",
       "    }\n",
       "\n",
       "    .dataframe thead th {\n",
       "        text-align: right;\n",
       "    }\n",
       "</style>\n",
       "<table border=\"1\" class=\"dataframe\">\n",
       "  <thead>\n",
       "    <tr style=\"text-align: right;\">\n",
       "      <th></th>\n",
       "      <th>img</th>\n",
       "      <th>label</th>\n",
       "    </tr>\n",
       "  </thead>\n",
       "  <tbody>\n",
       "    <tr>\n",
       "      <th>0</th>\n",
       "      <td>/apps/local/shared/HC701/assessment/assignment...</td>\n",
       "      <td>0</td>\n",
       "    </tr>\n",
       "    <tr>\n",
       "      <th>1</th>\n",
       "      <td>/apps/local/shared/HC701/assessment/assignment...</td>\n",
       "      <td>0</td>\n",
       "    </tr>\n",
       "    <tr>\n",
       "      <th>2</th>\n",
       "      <td>/apps/local/shared/HC701/assessment/assignment...</td>\n",
       "      <td>0</td>\n",
       "    </tr>\n",
       "    <tr>\n",
       "      <th>3</th>\n",
       "      <td>/apps/local/shared/HC701/assessment/assignment...</td>\n",
       "      <td>0</td>\n",
       "    </tr>\n",
       "    <tr>\n",
       "      <th>4</th>\n",
       "      <td>/apps/local/shared/HC701/assessment/assignment...</td>\n",
       "      <td>0</td>\n",
       "    </tr>\n",
       "  </tbody>\n",
       "</table>\n",
       "</div>"
      ],
      "text/plain": [
       "                                                 img  label\n",
       "0  /apps/local/shared/HC701/assessment/assignment...      0\n",
       "1  /apps/local/shared/HC701/assessment/assignment...      0\n",
       "2  /apps/local/shared/HC701/assessment/assignment...      0\n",
       "3  /apps/local/shared/HC701/assessment/assignment...      0\n",
       "4  /apps/local/shared/HC701/assessment/assignment...      0"
      ]
     },
     "execution_count": 11,
     "metadata": {},
     "output_type": "execute_result"
    }
   ],
   "source": [
    "train_df.head()"
   ]
  },
  {
   "cell_type": "code",
   "execution_count": 12,
   "metadata": {},
   "outputs": [],
   "source": [
    "# saving in the cwd\n",
    "train_df.to_csv(\"./csv/train.csv\")\n",
    "test_df.to_csv(\"./csv/test.csv\")"
   ]
  },
  {
   "attachments": {},
   "cell_type": "markdown",
   "metadata": {},
   "source": [
    "### Report the number and the range of filenames for each class in training and testing sets"
   ]
  },
  {
   "cell_type": "code",
   "execution_count": 13,
   "metadata": {},
   "outputs": [
    {
     "name": "stdout",
     "output_type": "stream",
     "text": [
      "Class: tb\n",
      " \n",
      "Number of images used for training: 640\n",
      "Number of images used for testing: 160\n",
      " \n",
      "Images range: \n",
      "First 5 training images: ['tb0250.png', 'tb0251.png', 'tb0252.png', 'tb0253.png', 'tb0255.png']\n",
      "Last 5 training images: ['tb1192.png', 'tb1194.png', 'tb1196.png', 'tb1197.png', 'tb1199.png']\n",
      "\n",
      "First 5 testing images: ['tb0003.png', 'tb0004.png', 'tb0005.png', 'tb0006.png', 'tb0007.png']\n",
      "Last 5 testing images: ['tb0241.png', 'tb0242.png', 'tb0244.png', 'tb0246.png', 'tb0248.png']\n",
      "\n",
      "==============================================================\n",
      "\n",
      "Class: health\n",
      " \n",
      "Number of images used for training: 3040\n",
      "Number of images used for testing: 760\n",
      " \n",
      "Images range: \n",
      "First 5 training images: ['/h0995.png', '/h0996.png', '/h0997.png', '/h0998.png', '/h0999.png']\n",
      "Last 5 training images: ['/h4995.png', '/h4996.png', '/h4998.png', '/h4999.png', '/h5000.png']\n",
      "\n",
      "First 5 testing images: ['/h0001.png', '/h0003.png', '/h0004.png', '/h0005.png', '/h0006.png']\n",
      "Last 5 testing images: ['/h0989.png', '/h0990.png', '/h0991.png', '/h0992.png', '/h0993.png']\n",
      "\n",
      "==============================================================\n",
      "\n"
     ]
    }
   ],
   "source": [
    "for label, cls_name in enumerate(USED_CLASSES):\n",
    "    train_imgs = train_df[train_df['label'] == label]['img'].to_list()\n",
    "    test_imgs = test_df[test_df['label'] == label]['img'].to_list()\n",
    "    print(f\"Class: {cls_name}\")\n",
    "    print(\" \")\n",
    "    print(f\"Number of images used for training: {len(train_imgs)}\")\n",
    "    print(f\"Number of images used for testing: {len(test_imgs)}\")\n",
    "    print(\" \")\n",
    "    # print first 5 images and last 5 images\n",
    "    print(f\"Images range: \")\n",
    "    print(f\"First 5 training images: {[i[-10:] for i in train_imgs[:5]]}\")\n",
    "    print(f\"Last 5 training images: {[i[-10:] for i in train_imgs[-5:]]}\")\n",
    "    print(\"\")\n",
    "    print(f\"First 5 testing images: {[i[-10:] for i in test_imgs[:5]]}\")\n",
    "    print(f\"Last 5 testing images: {[i[-10:] for i in test_imgs[-5:]]}\")\n",
    "\n",
    "    print(\"\")\n",
    "    print(\"==============================================================\")\n",
    "    print(\"\")"
   ]
  },
  {
   "cell_type": "code",
   "execution_count": 14,
   "metadata": {},
   "outputs": [
    {
     "data": {
      "text/plain": [
       "{'class_name': ['tb', 'tb', 'health', 'health'],\n",
       " 'dataset': ['test', 'train', 'test', 'train'],\n",
       " 'image_count': [160, 640, 760, 3040],\n",
       " 'first_img': ['tb0003.png', 'tb0250.png', '/h0001.png', '/h0995.png'],\n",
       " 'last_img': ['tb0248.png', 'tb1199.png', '/h0993.png', '/h5000.png']}"
      ]
     },
     "execution_count": 14,
     "metadata": {},
     "output_type": "execute_result"
    }
   ],
   "source": [
    "data_stats = {}\n",
    "data_stats[\"class_name\"] = []\n",
    "data_stats[\"dataset\"] = []\n",
    "data_stats[\"image_count\"] = []\n",
    "data_stats[\"first_img\"] = []\n",
    "data_stats[\"last_img\"] = []\n",
    "\n",
    "for label, cls_name in enumerate(USED_CLASSES):\n",
    "    train_imgs = train_df[train_df['label'] == label]['img'].to_list()\n",
    "    test_imgs = test_df[test_df['label'] == label]['img'].to_list()\n",
    "\n",
    "    # TEST SET ================================\n",
    "\n",
    "    data_stats[\"class_name\"] = data_stats[\"class_name\"]+[cls_name]\n",
    "    data_stats[\"dataset\"] = data_stats[\"dataset\"]+[\"test\"]\n",
    "    data_stats[\"image_count\"] = data_stats[\"image_count\"]+[len(test_imgs)]\n",
    "\n",
    "    data_stats[\"first_img\"] = data_stats[\"first_img\"]+[test_imgs[0][-10:]]\n",
    "    data_stats[\"last_img\"] = data_stats[\"last_img\"]+[test_imgs[-1][-10:]]\n",
    "\n",
    "    # TRAIN SET ================================\n",
    "\n",
    "    data_stats[\"class_name\"] = data_stats[\"class_name\"]+[cls_name]\n",
    "    data_stats[\"dataset\"] = data_stats[\"dataset\"]+[\"train\"]\n",
    "    data_stats[\"image_count\"] = data_stats[\"image_count\"]+[len(train_imgs)]\n",
    "\n",
    "    data_stats[\"first_img\"] = data_stats[\"first_img\"]+[train_imgs[0][-10:]]\n",
    "    data_stats[\"last_img\"] = data_stats[\"last_img\"]+[train_imgs[-1][-10:]]\n",
    "\n",
    "\n",
    "\n",
    "data_stats\n"
   ]
  },
  {
   "cell_type": "code",
   "execution_count": 15,
   "metadata": {},
   "outputs": [
    {
     "data": {
      "text/html": [
       "<div>\n",
       "<style scoped>\n",
       "    .dataframe tbody tr th:only-of-type {\n",
       "        vertical-align: middle;\n",
       "    }\n",
       "\n",
       "    .dataframe tbody tr th {\n",
       "        vertical-align: top;\n",
       "    }\n",
       "\n",
       "    .dataframe thead th {\n",
       "        text-align: right;\n",
       "    }\n",
       "</style>\n",
       "<table border=\"1\" class=\"dataframe\">\n",
       "  <thead>\n",
       "    <tr style=\"text-align: right;\">\n",
       "      <th></th>\n",
       "      <th></th>\n",
       "      <th>image_count</th>\n",
       "      <th>first_img</th>\n",
       "      <th>last_img</th>\n",
       "    </tr>\n",
       "    <tr>\n",
       "      <th>class_name</th>\n",
       "      <th>dataset</th>\n",
       "      <th></th>\n",
       "      <th></th>\n",
       "      <th></th>\n",
       "    </tr>\n",
       "  </thead>\n",
       "  <tbody>\n",
       "    <tr>\n",
       "      <th rowspan=\"2\" valign=\"top\">tb</th>\n",
       "      <th>test</th>\n",
       "      <td>160</td>\n",
       "      <td>tb0003.png</td>\n",
       "      <td>tb0248.png</td>\n",
       "    </tr>\n",
       "    <tr>\n",
       "      <th>train</th>\n",
       "      <td>640</td>\n",
       "      <td>tb0250.png</td>\n",
       "      <td>tb1199.png</td>\n",
       "    </tr>\n",
       "    <tr>\n",
       "      <th rowspan=\"2\" valign=\"top\">health</th>\n",
       "      <th>test</th>\n",
       "      <td>760</td>\n",
       "      <td>/h0001.png</td>\n",
       "      <td>/h0993.png</td>\n",
       "    </tr>\n",
       "    <tr>\n",
       "      <th>train</th>\n",
       "      <td>3040</td>\n",
       "      <td>/h0995.png</td>\n",
       "      <td>/h5000.png</td>\n",
       "    </tr>\n",
       "  </tbody>\n",
       "</table>\n",
       "</div>"
      ],
      "text/plain": [
       "                    image_count   first_img    last_img\n",
       "class_name dataset                                     \n",
       "tb         test             160  tb0003.png  tb0248.png\n",
       "           train            640  tb0250.png  tb1199.png\n",
       "health     test             760  /h0001.png  /h0993.png\n",
       "           train           3040  /h0995.png  /h5000.png"
      ]
     },
     "execution_count": 15,
     "metadata": {},
     "output_type": "execute_result"
    }
   ],
   "source": [
    "data_stats_df = pd.DataFrame.from_dict(data_stats).set_index([\"class_name\", \"dataset\"])\n",
    "# print(data.to_latex())\n",
    "data_stats_df.head()"
   ]
  },
  {
   "cell_type": "code",
   "execution_count": 16,
   "metadata": {},
   "outputs": [
    {
     "name": "stdout",
     "output_type": "stream",
     "text": [
      "\\begin{tabular}{llrll}\n",
      "\\toprule\n",
      "       &       &  image\\_count &   first\\_img &    last\\_img \\\\\n",
      "class\\_name & dataset &              &             &             \\\\\n",
      "\\midrule\n",
      "tb & test &          160 &  tb0003.png &  tb0248.png \\\\\n",
      "       & train &          640 &  tb0250.png &  tb1199.png \\\\\n",
      "health & test &          760 &  /h0001.png &  /h0993.png \\\\\n",
      "       & train &         3040 &  /h0995.png &  /h5000.png \\\\\n",
      "\\bottomrule\n",
      "\\end{tabular}\n",
      "\n"
     ]
    },
    {
     "name": "stderr",
     "output_type": "stream",
     "text": [
      "/tmp/ipykernel_1778087/1004228683.py:1: FutureWarning: In future versions `DataFrame.to_latex` is expected to utilise the base implementation of `Styler.to_latex` for formatting and rendering. The arguments signature may therefore change. It is recommended instead to use `DataFrame.style.to_latex` which also contains additional functionality.\n",
      "  print(data_stats_df.to_latex())\n"
     ]
    }
   ],
   "source": [
    "print(data_stats_df.to_latex())"
   ]
  }
 ],
 "metadata": {
  "kernelspec": {
   "display_name": "main",
   "language": "python",
   "name": "python3"
  },
  "language_info": {
   "codemirror_mode": {
    "name": "ipython",
    "version": 3
   },
   "file_extension": ".py",
   "mimetype": "text/x-python",
   "name": "python",
   "nbconvert_exporter": "python",
   "pygments_lexer": "ipython3",
   "version": "3.10.8"
  },
  "orig_nbformat": 4,
  "vscode": {
   "interpreter": {
    "hash": "ae4c1f082f7ca9958450619e3b3100097d6ea2caae0f7fcfec6090e15962af27"
   }
  }
 },
 "nbformat": 4,
 "nbformat_minor": 2
}
