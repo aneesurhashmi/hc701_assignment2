{
 "cells": [
  {
   "cell_type": "code",
   "execution_count": 42,
   "metadata": {},
   "outputs": [],
   "source": [
    "from flopth import flopth\n",
    "import torch\n",
    "import pandas as pd\n",
    "import torchvision"
   ]
  },
  {
   "cell_type": "code",
   "execution_count": 28,
   "metadata": {},
   "outputs": [],
   "source": [
    "\n",
    "def get_flops(model):\n",
    "    dummy_inputs = torch.rand(1, 3, 512, 512)\n",
    "    flops, params = flopth(model, inputs=(dummy_inputs,))\n",
    "    return flops, params"
   ]
  },
  {
   "cell_type": "code",
   "execution_count": 37,
   "metadata": {},
   "outputs": [],
   "source": [
    "mobilenet_paths = [\"./task2/runs/mobilenet/weights/mobilenet_aug_scratch.pth\", \"./task2/runs/mobilenet/weights/mobilenet_aug.pth\", ]\n",
    "resnet_paths = [\"./task2/runs/resnet18/weights/resnet18_aug_scratch.pth\", \"./task2/runs/resnet18/weights/resnet18_aug.pth\", \"./task2/runs/resnet18/weights/resnet18_no_aug_scratch.pth\"]\n",
    "\n",
    "name = []\n",
    "flops_list = []\n",
    "params_list = []\n",
    "\n",
    "for mdl_path in resnet_paths:\n",
    "    model = torchvision.models.resnet18()\n",
    "    model.fc = torch.nn.Sequential(\n",
    "                torch.nn.Linear(\n",
    "                    in_features = model.fc.in_features,\n",
    "                    # out_features = 1,\n",
    "                    out_features = 2,\n",
    "                \n",
    "            )\n",
    "        )\n",
    "    name.append(mdl_path.split(\"/\")[-1][:-4])\n",
    "    checkpoint = torch.load(mdl_path)\n",
    "    model.load_state_dict(checkpoint[\"model\"])\n",
    "    flop, params = get_flops(model)\n",
    "    flops_list.append(flop)\n",
    "    params_list.append(params)\n",
    "    # break\n",
    "\n",
    "for mdl_path in mobilenet_paths:\n",
    "    model = torchvision.models.mobilenet_v3_large()\n",
    "    model.classifier[-1] = torch.nn.Sequential(\n",
    "            torch.nn.Linear(\n",
    "                in_features = model.classifier[-1].in_features,\n",
    "                # out_features = 1,\n",
    "                out_features = 2,\n",
    "                \n",
    "            )\n",
    "        )\n",
    "    name.append(mdl_path.split(\"/\")[-1][:-4])\n",
    "    checkpoint = torch.load(mdl_path)\n",
    "    model.load_state_dict(checkpoint[\"model\"])\n",
    "    flop, params = get_flops(model)\n",
    "    flops_list.append(flop)\n",
    "    params_list.append(params)\n",
    "    # break"
   ]
  },
  {
   "cell_type": "code",
   "execution_count": 39,
   "metadata": {},
   "outputs": [],
   "source": [
    "df_dict = {\"Model\":name, \"FLOPs\":flops_list, \"Params\":params_list}"
   ]
  },
  {
   "cell_type": "code",
   "execution_count": 44,
   "metadata": {},
   "outputs": [
    {
     "data": {
      "text/html": [
       "<div>\n",
       "<style scoped>\n",
       "    .dataframe tbody tr th:only-of-type {\n",
       "        vertical-align: middle;\n",
       "    }\n",
       "\n",
       "    .dataframe tbody tr th {\n",
       "        vertical-align: top;\n",
       "    }\n",
       "\n",
       "    .dataframe thead th {\n",
       "        text-align: right;\n",
       "    }\n",
       "</style>\n",
       "<table border=\"1\" class=\"dataframe\">\n",
       "  <thead>\n",
       "    <tr style=\"text-align: right;\">\n",
       "      <th></th>\n",
       "      <th>Model</th>\n",
       "      <th>FLOPs</th>\n",
       "      <th>Params</th>\n",
       "    </tr>\n",
       "  </thead>\n",
       "  <tbody>\n",
       "    <tr>\n",
       "      <th>0</th>\n",
       "      <td>resnet18_aug_scratch</td>\n",
       "      <td>9.51334G</td>\n",
       "      <td>11.1775M</td>\n",
       "    </tr>\n",
       "    <tr>\n",
       "      <th>1</th>\n",
       "      <td>resnet18_aug</td>\n",
       "      <td>9.51334G</td>\n",
       "      <td>11.1775M</td>\n",
       "    </tr>\n",
       "    <tr>\n",
       "      <th>2</th>\n",
       "      <td>resnet18_no_aug_scratch</td>\n",
       "      <td>9.51334G</td>\n",
       "      <td>11.1775M</td>\n",
       "    </tr>\n",
       "    <tr>\n",
       "      <th>3</th>\n",
       "      <td>mobilenet_aug_scratch</td>\n",
       "      <td>1.18266G</td>\n",
       "      <td>4.20459M</td>\n",
       "    </tr>\n",
       "    <tr>\n",
       "      <th>4</th>\n",
       "      <td>mobilenet_aug</td>\n",
       "      <td>1.18266G</td>\n",
       "      <td>4.20459M</td>\n",
       "    </tr>\n",
       "  </tbody>\n",
       "</table>\n",
       "</div>"
      ],
      "text/plain": [
       "                     Model     FLOPs    Params\n",
       "0     resnet18_aug_scratch  9.51334G  11.1775M\n",
       "1             resnet18_aug  9.51334G  11.1775M\n",
       "2  resnet18_no_aug_scratch  9.51334G  11.1775M\n",
       "3    mobilenet_aug_scratch  1.18266G  4.20459M\n",
       "4            mobilenet_aug  1.18266G  4.20459M"
      ]
     },
     "execution_count": 44,
     "metadata": {},
     "output_type": "execute_result"
    }
   ],
   "source": [
    "df = pd.DataFrame.from_dict(df_dict)\n",
    "df.head()"
   ]
  },
  {
   "cell_type": "code",
   "execution_count": 46,
   "metadata": {},
   "outputs": [
    {
     "name": "stdout",
     "output_type": "stream",
     "text": [
      "\\begin{tabular}{llll}\n",
      "\\toprule\n",
      "{} &                    Model &     FLOPs &    Params \\\\\n",
      "\\midrule\n",
      "0 &     resnet18\\_aug\\_scratch &  9.51334G &  11.1775M \\\\\n",
      "1 &             resnet18\\_aug &  9.51334G &  11.1775M \\\\\n",
      "2 &  resnet18\\_no\\_aug\\_scratch &  9.51334G &  11.1775M \\\\\n",
      "3 &    mobilenet\\_aug\\_scratch &  1.18266G &  4.20459M \\\\\n",
      "4 &            mobilenet\\_aug &  1.18266G &  4.20459M \\\\\n",
      "\\bottomrule\n",
      "\\end{tabular}\n",
      "\n"
     ]
    },
    {
     "name": "stderr",
     "output_type": "stream",
     "text": [
      "/tmp/ipykernel_2108419/2350534188.py:1: FutureWarning: In future versions `DataFrame.to_latex` is expected to utilise the base implementation of `Styler.to_latex` for formatting and rendering. The arguments signature may therefore change. It is recommended instead to use `DataFrame.style.to_latex` which also contains additional functionality.\n",
      "  print(df.to_latex())\n"
     ]
    }
   ],
   "source": [
    "print(df.to_latex())"
   ]
  }
 ],
 "metadata": {
  "kernelspec": {
   "display_name": "main",
   "language": "python",
   "name": "python3"
  },
  "language_info": {
   "codemirror_mode": {
    "name": "ipython",
    "version": 3
   },
   "file_extension": ".py",
   "mimetype": "text/x-python",
   "name": "python",
   "nbconvert_exporter": "python",
   "pygments_lexer": "ipython3",
   "version": "3.10.8"
  },
  "orig_nbformat": 4,
  "vscode": {
   "interpreter": {
    "hash": "ae4c1f082f7ca9958450619e3b3100097d6ea2caae0f7fcfec6090e15962af27"
   }
  }
 },
 "nbformat": 4,
 "nbformat_minor": 2
}
